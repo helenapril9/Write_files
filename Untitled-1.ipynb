{
 "cells": [
  {
   "cell_type": "code",
   "execution_count": 1,
   "metadata": {},
   "outputs": [
    {
     "name": "stdout",
     "output_type": "stream",
     "text": [
      "['result_file.txt\\n0\\n\\n', '2.txt\\n1\\nТревога началась в тринадцать часов ноль две минуты. \\n\\n', '1.txt\\n8\\nНачальник  полиции\\nлично позвонил в шестнадцатый участок. А спустя  одну минуту тридцать секунд\\nв дежурке и других комнатах нижнего этажа раздались звонки\\n     Когда Иенсен  --  комиссар  шестнадцатого  участка --  вышел  из своего\\nкабинета,  звонки еще  не смолкли. Иенсен был мужчина средних лет,  обычного\\nсложения, с лицом плоским и невыразительным. На последней ступеньке винтовой\\nлестницы  он задержался  и  обвел взглядом помещение дежурки. Затем поправил\\nгалстук и проследовал к машине.\\n\\n', '3.txt\\n9\\n     В  это время  дня  машины текли сплошным  блестящим  потоком,  а  среди\\nпотока, будто  колонны из бетона  и стекла, высились  здания. Здесь,  в мире\\nрезких граней,  люди  на тротуарах  выглядели  несчастными и  неприкаянными.\\nОдеты они были хорошо, но как-то удивительно походили друг на друга и все до\\nодного спешили. Они шли нестройными  вереницами, широко разливались, завидев\\nкрасный  светофор или  металлический  блеск кафе-автоматов.  Они непрестанно\\nозирались по сторонам и теребили портфели и сумочки.\\n     Полицейские  машины  с  включенными  сиренами  пробивались  сквозь  эту\\nтолчею.\\n\\n']\n"
     ]
    }
   ],
   "source": [
    "import os\n",
    "def get_file_name(path_name):\n",
    "    return path_name.split(\"\\\\\")[-1]\n",
    "path = os.getcwd()\n",
    "files_content = []\n",
    "n_str = {}\n",
    "sorted_n_str = {}\n",
    "for filename in filter(lambda p: p.endswith(\"txt\"), os.listdir(path)):\n",
    "    filepath = os.path.join(path, filename)\n",
    "    with open(filename, mode='r',  encoding=\"utf-8\") as f:\n",
    "        s = sum(1 for _ in f) \n",
    "        n_str[filename] = s    \n",
    "sorted_n_str = (sorted(n_str.items(), key=lambda item: item[1]))\n",
    "l = len(sorted_n_str)\n",
    "for i in range(l):\n",
    "    f = sorted_n_str[i][0]  \n",
    "    num_str = sorted_n_str[i][1]       \n",
    "    p = os.path.join(path, f)\n",
    "    with open(p, 'r', encoding=\"utf-8\") as origin:\n",
    "        data = origin.read()     \n",
    "    with open(p, 'w+', encoding=\"utf-8\") as modified:\n",
    "        modified.write(f\"{get_file_name(p)}\\n{num_str}\\n{data}\\n\")\n",
    "        modified.seek(0)\n",
    "        files_content += [modified.read()]     \n",
    "print(files_content)\n",
    "with open('result_file.txt', 'w',encoding=\"utf-8\") as f:\n",
    "    for content in files_content:\n",
    "        f.write(content)"
   ]
  }
 ],
 "metadata": {
  "interpreter": {
   "hash": "073e97d9edce391f5d16825652497352d8c5f972d2913fd0dc21756dd309c531"
  },
  "kernelspec": {
   "display_name": "Python 3.8.8 ('base')",
   "language": "python",
   "name": "python3"
  },
  "language_info": {
   "codemirror_mode": {
    "name": "ipython",
    "version": 3
   },
   "file_extension": ".py",
   "mimetype": "text/x-python",
   "name": "python",
   "nbconvert_exporter": "python",
   "pygments_lexer": "ipython3",
   "version": "3.8.8"
  },
  "orig_nbformat": 4
 },
 "nbformat": 4,
 "nbformat_minor": 2
}
