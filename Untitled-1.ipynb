{
 "cells": [
  {
   "cell_type": "code",
   "execution_count": 1,
   "metadata": {},
   "outputs": [
    {
     "name": "stdout",
     "output_type": "stream",
     "text": [
      "['3.txt\\n4\\n3.txt\\n2\\nдата\\nсвойс\\n\\n', '2.txt\\n5\\n2.txt\\n3\\nretert\\nertert\\nertert\\n\\n', '1.txt\\n6\\n1.txt\\n4\\n11\\n2222\\n33333\\n44444\\n\\n', 'result_file.txt\\n18\\nresult_file.txt\\n0\\n\\n3.txt\\n2\\nдата\\nсвойс\\n2.txt\\n3\\nretert\\nertert\\nertert\\n1.txt\\n4\\n11\\n2222\\n33333\\n44444\\n\\n', 'recipes.txt.txt\\n26\\nОмлет\\n3\\nЯйцо | 2 | шт\\nМолоко | 100 | мл\\nПомидор | 2 | шт\\n\\nУтка по-пекински\\n4\\nУтка | 1 | шт\\nВода | 2 | л\\nМед | 3 | ст.л\\nСоевый соус | 60 | мл\\n\\nЗапеченный картофель\\n3\\nКартофель | 1 | кг\\nЧеснок | 3 | зубч\\nСыр гауда | 100 | г\\n\\nФахитос\\n5\\nГовядина | 500 | г\\nПерец сладкий | 1 | шт\\nЛаваш | 2 | шт\\nВинный уксус | 1 | ст.л\\nПомидор | 2 | шт\\n']\n"
     ]
    }
   ],
   "source": [
    "import os\n",
    "def get_file_name(path_name):\n",
    "    return path_name.split(\"\\\\\")[-1]\n",
    "path = os.getcwd()\n",
    "files_content = []\n",
    "n_str = {}\n",
    "sorted_n_str = {}\n",
    "for filename in filter(lambda p: p.endswith(\"txt\"), os.listdir(path)):\n",
    "    filepath = os.path.join(path, filename)\n",
    "    with open(filename, mode='r',  encoding=\"utf-8\") as f:\n",
    "        s = sum(1 for _ in f) \n",
    "        n_str[filename] = s    \n",
    "sorted_n_str = (sorted(n_str.items(), key=lambda item: item[1]))\n",
    "l = len(sorted_n_str)\n",
    "for i in range(l):\n",
    "    f = sorted_n_str[i][0]  \n",
    "    num_str = sorted_n_str[i][1]       \n",
    "    p = os.path.join(path, f)\n",
    "    with open(p, 'r', encoding=\"utf-8\") as origin:\n",
    "        data = origin.read()     \n",
    "    with open(p, 'w+', encoding=\"utf-8\") as modified:\n",
    "        modified.write(f\"{get_file_name(p)}\\n{num_str}\\n{data}\\n\")\n",
    "        modified.seek(0)\n",
    "        files_content += [modified.read()]     \n",
    "print(files_content)\n",
    "with open('result_file.txt', 'w',encoding=\"utf-8\") as f:\n",
    "    for content in files_content:\n",
    "        f.write(content)"
   ]
  },
  {
   "cell_type": "code",
   "execution_count": null,
   "metadata": {},
   "outputs": [],
   "source": []
  }
 ],
 "metadata": {
  "interpreter": {
   "hash": "073e97d9edce391f5d16825652497352d8c5f972d2913fd0dc21756dd309c531"
  },
  "kernelspec": {
   "display_name": "Python 3.8.8 ('base')",
   "language": "python",
   "name": "python3"
  },
  "language_info": {
   "codemirror_mode": {
    "name": "ipython",
    "version": 3
   },
   "file_extension": ".py",
   "mimetype": "text/x-python",
   "name": "python",
   "nbconvert_exporter": "python",
   "pygments_lexer": "ipython3",
   "version": "3.8.8"
  },
  "orig_nbformat": 4
 },
 "nbformat": 4,
 "nbformat_minor": 2
}
